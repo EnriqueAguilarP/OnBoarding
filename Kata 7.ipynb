{
 "cells": [
  {
   "cell_type": "code",
   "execution_count": 3,
   "metadata": {},
   "outputs": [
    {
     "name": "stdout",
     "output_type": "stream",
     "text": [
      "Mercurio\n",
      "Venus\n",
      "Tierra\n",
      "Marte\n"
     ]
    }
   ],
   "source": [
    "new_planet = input('Escribe el nombre del primer planeta: ')\n",
    "planets = []\n",
    "while new_planet:\n",
    "    planets.append(new_planet)\n",
    "    new_planet = input(\"Escribe el nombre de otro planeta o escribe 'done' \")\n",
    "    if new_planet == 'done':\n",
    "        break\n",
    "\n",
    "for planet in planets:\n",
    "    print(planet)\n"
   ]
  },
  {
   "cell_type": "code",
   "execution_count": null,
   "metadata": {},
   "outputs": [],
   "source": []
  }
 ],
 "metadata": {
  "interpreter": {
   "hash": "22655c46e583da38c66c52d67e1286ead2491bb71b5adf11a09facd1804b1978"
  },
  "kernelspec": {
   "display_name": "Python 3.8.5 32-bit",
   "language": "python",
   "name": "python3"
  },
  "language_info": {
   "codemirror_mode": {
    "name": "ipython",
    "version": 3
   },
   "file_extension": ".py",
   "mimetype": "text/x-python",
   "name": "python",
   "nbconvert_exporter": "python",
   "pygments_lexer": "ipython3",
   "version": "3.8.5"
  },
  "orig_nbformat": 4
 },
 "nbformat": 4,
 "nbformat_minor": 2
}
