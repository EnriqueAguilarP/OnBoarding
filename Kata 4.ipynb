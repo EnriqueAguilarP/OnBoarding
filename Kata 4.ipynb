{
 "cells": [
  {
   "cell_type": "code",
   "execution_count": 2,
   "metadata": {},
   "outputs": [],
   "source": [
    "text = \"\"\"Interesting facts about the Moon. The Moon is Earth's only satellite. There are several interesting facts about the Moon and how it affects life here on Earth. \n",
    "On average, the Moon moves 4cm away from the Earth every year. This yearly drift is not significant enough to cause immediate effects on immediate effects on Earth. The highest daylight temperature of the Moon is 127 C.\"\"\""
   ]
  },
  {
   "cell_type": "code",
   "execution_count": 3,
   "metadata": {},
   "outputs": [
    {
     "name": "stdout",
     "output_type": "stream",
     "text": [
      "['Interesting facts about the Moon', \" The Moon is Earth's only satellite\", ' There are several interesting facts about the Moon and how it affects life here on Earth', ' \\nOn average, the Moon moves 4cm away from the Earth every year', ' This yearly drift is not significant enough to cause immediate effects on immediate effects on Earth', ' The highest daylight temperature of the Moon is 127 C', '']\n"
     ]
    }
   ],
   "source": [
    "partes = text.split('.')\n",
    "print(partes)"
   ]
  },
  {
   "cell_type": "markdown",
   "metadata": {},
   "source": [
    "Bucle para imprimir solo datos sobre la Luna que estén relacionados con las palabras clave"
   ]
  },
  {
   "cell_type": "code",
   "execution_count": 30,
   "metadata": {},
   "outputs": [
    {
     "name": "stdout",
     "output_type": "stream",
     "text": [
      " \n",
      "On average, the Moon moves 4cm away from the Earth every year\n",
      " The highest daylight temperature of the Moon is 127 C\n",
      " \n",
      "On average, the Moon moves 4cm away from the Earth every year\n",
      " The highest daylight temperature of the Moon is 127 Celsius\n"
     ]
    }
   ],
   "source": [
    "palabrasClave = [\"average\", \"temperature\", \"distance\"]\n",
    "for item in partes:\n",
    "    for palabra in palabrasClave:\n",
    "        if palabra in item:\n",
    "            print(item)\n",
    "\n",
    "for item in partes:\n",
    "    for palabra in palabrasClave:\n",
    "        if palabra in item:\n",
    "            print(item.replace('C', 'Celsius'))"
   ]
  },
  {
   "cell_type": "markdown",
   "metadata": {},
   "source": [
    "Ejercicio 2. Formateando cadenas"
   ]
  },
  {
   "cell_type": "code",
   "execution_count": 4,
   "metadata": {},
   "outputs": [
    {
     "name": "stdout",
     "output_type": "stream",
     "text": [
      "Gravity Facts about Moon \n",
      "-------------------------------------------------------------------------------- \n",
      "Planet Name: Moon\n",
      "Gravity on Earth: 1.6199999999999999 m/s2\n",
      "\n",
      "Gravity Facts about Moon \n",
      "-------------------------------------------------------------------------------- \n",
      "Planet Name: Moon\n",
      "Gravity on Earth: 1.6199999999999999 m/s2\n",
      "\n",
      " \n",
      "Gravity Facts about Marte \n",
      "--------------------------------------------------------------------------------\n",
      "Planet Name: Marte \n",
      "Gravity on Ganímedes: 1.4300000000000002 m/s2\n",
      "\n"
     ]
    }
   ],
   "source": [
    "name = \"Moon\"\n",
    "gravity = 0.00162 # in kms\n",
    "planet = \"Earth\"\n",
    "\n",
    "title = f\"Gravity Facts about {name}\"\n",
    "body = f\"\"\" \\n{'-'*80} \n",
    "Planet Name: {name}\n",
    "Gravity on {planet}: {gravity * 1000} m/s2\n",
    "\"\"\"\n",
    "\n",
    "template = title + body\n",
    "print(template)\n",
    "\n",
    "name = 'Marte '\n",
    "gravity  = 0.00143\n",
    "planet = 'Ganímedes'\n",
    "print(template)\n",
    "\n",
    "new_template = f\"\"\" \n",
    "Gravity Facts about {name}\n",
    "{'-'*80}\n",
    "Planet Name: {name}\n",
    "Gravity on {planet}: {gravity * 1000} m/s2\n",
    "\"\"\"\n",
    "\n",
    "print(new_template)"
   ]
  }
 ],
 "metadata": {
  "interpreter": {
   "hash": "22655c46e583da38c66c52d67e1286ead2491bb71b5adf11a09facd1804b1978"
  },
  "kernelspec": {
   "display_name": "Python 3.8.5 32-bit",
   "language": "python",
   "name": "python3"
  },
  "language_info": {
   "codemirror_mode": {
    "name": "ipython",
    "version": 3
   },
   "file_extension": ".py",
   "mimetype": "text/x-python",
   "name": "python",
   "nbconvert_exporter": "python",
   "pygments_lexer": "ipython3",
   "version": "3.8.5"
  },
  "orig_nbformat": 4
 },
 "nbformat": 4,
 "nbformat_minor": 2
}
