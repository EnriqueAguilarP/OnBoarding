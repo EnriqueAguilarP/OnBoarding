{
 "cells": [
  {
   "cell_type": "code",
   "execution_count": 10,
   "metadata": {},
   "outputs": [
    {
     "name": "stdout",
     "output_type": "stream",
     "text": [
      " Reporte de combustible:\n",
      "    El promedio de los tanques es 70.33333333333333%\n",
      "    El primer tanque tiene 86%\n",
      "    El segundo tanque tiene 89%\n",
      "    El tercer tanque tiene 36%\n",
      "    \n"
     ]
    }
   ],
   "source": [
    "def reporte(tanque1, tanque2, tanque3):\n",
    "    average = (tanque1+tanque2+tanque3)/3\n",
    "    return f\"\"\" Reporte de combustible:\n",
    "    El promedio de los tanques es {average}%\n",
    "    El primer tanque tiene {tanque1}%\n",
    "    El segundo tanque tiene {tanque2}%\n",
    "    El tercer tanque tiene {tanque3}%\n",
    "    \"\"\"\n",
    "\n",
    "print(reporte(86, 89, 36))\n"
   ]
  },
  {
   "cell_type": "code",
   "execution_count": 11,
   "metadata": {},
   "outputs": [
    {
     "data": {
      "text/plain": [
       "70.33333333333333"
      ]
     },
     "execution_count": 11,
     "metadata": {},
     "output_type": "execute_result"
    }
   ],
   "source": [
    "def promedio(valores):\n",
    "    total = sum(valores)\n",
    "    numero_tanques = len(valores)\n",
    "    return total / numero_tanques\n",
    "promedio([86, 89, 36])"
   ]
  },
  {
   "cell_type": "code",
   "execution_count": 12,
   "metadata": {},
   "outputs": [
    {
     "name": "stdout",
     "output_type": "stream",
     "text": [
      " Reporte de combustible:\n",
      "    El promedio de los tanques es 78.0%\n",
      "    El primer tanque tiene 88%\n",
      "    El segundo tanque tiene 76%\n",
      "    El tercer tanque tiene 70%\n",
      "    \n"
     ]
    }
   ],
   "source": [
    "def reporte(tanque1, tanque2, tanque3):\n",
    "    return f\"\"\" Reporte de combustible:\n",
    "    El promedio de los tanques es {promedio([tanque1, tanque2, tanque3])}%\n",
    "    El primer tanque tiene {tanque1}%\n",
    "    El segundo tanque tiene {tanque2}%\n",
    "    El tercer tanque tiene {tanque3}%\n",
    "    \"\"\"\n",
    "print(reporte(88,76,70))"
   ]
  },
  {
   "cell_type": "code",
   "execution_count": 16,
   "metadata": {},
   "outputs": [
    {
     "name": "stdout",
     "output_type": "stream",
     "text": [
      "Misión hacia Luna\n",
      "Tiempo total de vuelo: 70 minutos\n",
      "Total de combustible restante: 550000 galones\n",
      "\n"
     ]
    }
   ],
   "source": [
    "def reporte_mision(prelanzamiento, tiempo_vuelo, destino, tanque_ext, tanque_int):\n",
    "    return f\"\"\"Misión hacia {destino}\n",
    "Tiempo total de vuelo: {prelanzamiento + tiempo_vuelo} minutos\n",
    "Total de combustible restante: {tanque_ext+tanque_int} galones\n",
    "\"\"\"\n",
    "print(reporte_mision(20, 50, 'Luna', 200000, 350000))"
   ]
  },
  {
   "cell_type": "code",
   "execution_count": 30,
   "metadata": {},
   "outputs": [
    {
     "name": "stdout",
     "output_type": "stream",
     "text": [
      "Misión hacia Marte\n",
      "    Tiempo total de vuelo: 80 minutos\n",
      "    Total de combustible restante: 550000 galones\n",
      "    Tanque interno: 200000 galones restantes\n",
      "Tanque externo: 350000 galones restantes\n",
      "\n"
     ]
    }
   ],
   "source": [
    "def reporte_mision2(destino, *minutos, **reserva_combustible):\n",
    "    reporte= f\"\"\"Misión hacia {destino}\n",
    "    Tiempo total de vuelo: {sum(minutos)} minutos\n",
    "    Total de combustible restante: {sum(reserva_combustible.values())} galones\n",
    "    \"\"\"\n",
    "    for tanque, galones in reserva_combustible.items():\n",
    "        reporte += f\"Tanque {tanque}: {galones} galones restantes\\n\"\n",
    "    return reporte\n",
    "print(reporte_mision2('Marte', 10, 20, 50, interno=200000, externo=350000))"
   ]
  }
 ],
 "metadata": {
  "interpreter": {
   "hash": "22655c46e583da38c66c52d67e1286ead2491bb71b5adf11a09facd1804b1978"
  },
  "kernelspec": {
   "display_name": "Python 3.8.5 32-bit",
   "language": "python",
   "name": "python3"
  },
  "language_info": {
   "codemirror_mode": {
    "name": "ipython",
    "version": 3
   },
   "file_extension": ".py",
   "mimetype": "text/x-python",
   "name": "python",
   "nbconvert_exporter": "python",
   "pygments_lexer": "ipython3",
   "version": "3.8.5"
  },
  "orig_nbformat": 4
 },
 "nbformat": 4,
 "nbformat_minor": 2
}
